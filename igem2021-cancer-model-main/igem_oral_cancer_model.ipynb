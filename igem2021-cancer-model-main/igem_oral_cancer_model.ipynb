{
  "nbformat": 4,
  "nbformat_minor": 0,
  "metadata": {
    "colab": {
      "name": "igem-oral-cancer-model.ipynb",
      "provenance": [],
      "collapsed_sections": []
    },
    "kernelspec": {
      "display_name": "Python 3",
      "name": "python3"
    },
    "language_info": {
      "name": "python"
    }
  },
  "cells": [
    {
      "cell_type": "code",
      "metadata": {
        "colab": {
          "base_uri": "https://localhost:8080/"
        },
        "id": "bJARITnU9EyU",
        "outputId": "7aa748a0-6b18-4b8d-8968-816a41b11a15"
      },
      "source": [
        "from google.colab import drive\n",
        "drive.mount('/content/drive')"
      ],
      "execution_count": 1,
      "outputs": [
        {
          "output_type": "stream",
          "name": "stdout",
          "text": [
            "Drive already mounted at /content/drive; to attempt to forcibly remount, call drive.mount(\"/content/drive\", force_remount=True).\n"
          ]
        }
      ]
    },
    {
      "cell_type": "markdown",
      "metadata": {
        "id": "yt9T9kVOOgH2"
      },
      "source": [
        "# XGBoost on RNA Seq Data"
      ]
    },
    {
      "cell_type": "code",
      "metadata": {
        "id": "pLasokmc3T8Y"
      },
      "source": [
        "#/content/drive/MyDrive/cancer-dataset"
      ],
      "execution_count": null,
      "outputs": []
    },
    {
      "cell_type": "code",
      "metadata": {
        "id": "Inydf4a1Qkld"
      },
      "source": [
        "import numpy as np\n",
        "import pandas as pd\n",
        "import matplotlib.pyplot as plt\n",
        "import xgboost as xgb\n",
        "from sklearn.model_selection import train_test_split    \n",
        "from sklearn.metrics import mean_squared_error\n",
        "#from sklearn import linear_model\n",
        "from sklearn.model_selection import RandomizedSearchCV\n",
        "from xgboost import plot_importance\n",
        "from sklearn.datasets import make_classification\n",
        "from sklearn.linear_model import LogisticRegression\n",
        "from sklearn.model_selection import KFold\n",
        "from sklearn.model_selection import cross_val_score\n",
        "import seaborn as sb\n"
      ],
      "execution_count": 3,
      "outputs": []
    },
    {
      "cell_type": "code",
      "metadata": {
        "id": "uvydXRjZQwZY"
      },
      "source": [
        "\n",
        "df = pd.read_csv(\"/content/drive/MyDrive/cancer-dataset/TCGA-HNSC.htseq_fpkm-ext/TCGA-HNSC.htseq_fpkm.tsv\", delimiter = '\\t' , engine='python')\n"
      ],
      "execution_count": 4,
      "outputs": []
    },
    {
      "cell_type": "code",
      "metadata": {
        "id": "n693L5LgN1yU"
      },
      "source": [
        "#df.head()"
      ],
      "execution_count": 5,
      "outputs": []
    },
    {
      "cell_type": "code",
      "metadata": {
        "id": "F17c-wj-PfPB"
      },
      "source": [
        "\n",
        "df2 = pd.read_csv(\"/content/drive/MyDrive/cancer-dataset/TCGA-THCA.htseq_fpkm.tsv\", delimiter = '\\t' , engine='python')\n",
        "df3 = pd.read_csv(\"/content/drive/MyDrive/cancer-dataset/TCGA-ESCA.htseq_fpkm.tsv\", delimiter = '\\t' , engine='python')\n"
      ],
      "execution_count": 6,
      "outputs": []
    },
    {
      "cell_type": "code",
      "metadata": {
        "id": "u8GHOFZTRSnu"
      },
      "source": [
        "df_concat = pd.concat([df, df2,df3], axis=1)\n",
        "#df_concat.head()\n",
        "df_concat.to_csv(\"/content/drive/MyDrive/cancer-dataset/dataset-with-names.csv\", sep=',')"
      ],
      "execution_count": null,
      "outputs": []
    },
    {
      "cell_type": "code",
      "metadata": {
        "id": "_53nkLR_O4y7"
      },
      "source": [
        "df_concat.info()"
      ],
      "execution_count": null,
      "outputs": []
    },
    {
      "cell_type": "code",
      "metadata": {
        "id": "nZB15UyZO9tu"
      },
      "source": [
        "df_concat.describe()"
      ],
      "execution_count": null,
      "outputs": []
    },
    {
      "cell_type": "code",
      "metadata": {
        "id": "vuZ2gsSxPEEQ"
      },
      "source": [
        "df_concat.isnull().sum()"
      ],
      "execution_count": null,
      "outputs": []
    },
    {
      "cell_type": "markdown",
      "metadata": {
        "id": "gI0Lrx5_5ykI"
      },
      "source": [
        "The TCGA dataset contains 2 types of patient gene expression data - primary tumour and solid normal. This is distinguished by the Patient ID. "
      ]
    },
    {
      "cell_type": "code",
      "metadata": {
        "id": "sJiNIMqnSQv8"
      },
      "source": [
        "patientId = list(df_concat.columns)\n",
        "targetPatientId  = patientId[:546]\n",
        "normalPatient = []\n",
        "del(targetPatientId[0])\n",
        "for id in targetPatientId:\n",
        "     name = id.split('-')\n",
        "     sampleId  = name[-1]\n",
        "     if sampleId[0] == \"1\":\n",
        "  \t    #print(\"primary tumour\")\n",
        "          normalPatient.append(id)\n",
        "\n",
        "normalPatient[2] #test case"
      ],
      "execution_count": null,
      "outputs": []
    },
    {
      "cell_type": "markdown",
      "metadata": {
        "id": "aDn5H7ED6SMI"
      },
      "source": [
        "Removing the column and row names as pre-step to feed into the XGBoost model.\n"
      ]
    },
    {
      "cell_type": "code",
      "metadata": {
        "id": "hyMK4mNhJmVe"
      },
      "source": [
        "data=df_concat.drop(['Ensembl_ID'], axis=1)\n",
        "#data.head()"
      ],
      "execution_count": null,
      "outputs": []
    },
    {
      "cell_type": "code",
      "metadata": {
        "id": "MF2n_wX1LpKS"
      },
      "source": [
        "data"
      ],
      "execution_count": null,
      "outputs": []
    },
    {
      "cell_type": "code",
      "metadata": {
        "id": "wTjfhvr6Sh7E"
      },
      "source": [
        "data_T = data.transpose()\n",
        "print(data_T.shape)\n",
        "data_T = data_T.iloc[: , :]\n",
        "#data_T.head()"
      ],
      "execution_count": null,
      "outputs": []
    },
    {
      "cell_type": "code",
      "metadata": {
        "id": "51qYi9QcM4QG"
      },
      "source": [
        "fig, ax = plt.subplots(figsize=(11, 9))\n",
        "sb.heatmap(data_T)\n",
        "plt.show()"
      ],
      "execution_count": null,
      "outputs": []
    },
    {
      "cell_type": "code",
      "metadata": {
        "id": "6GtGpZJwwHFd"
      },
      "source": [
        "del(data)"
      ],
      "execution_count": null,
      "outputs": []
    },
    {
      "cell_type": "markdown",
      "metadata": {
        "id": "a8zuw7lN6_GL"
      },
      "source": [
        "Primary tumour samples of HNSC are assigned target label 1 and the rest are assigned 0, including HNSC solid normal"
      ]
    },
    {
      "cell_type": "code",
      "metadata": {
        "id": "dzzYVAssopDD"
      },
      "source": [
        "data_T['target'] = 0\n",
        "#print(data_T.shape)\n",
        "data_T.iloc[:546,-1] = 1\n",
        "for patient in normalPatient:\n",
        "    data_T.loc[patient, 'target'] = 0\n",
        "data_T.loc['TCGA-CV-7242-11A','target']\n",
        "\n",
        "data_T.to_csv(\"/content/drive/MyDrive/cancer-dataset/combined-dataframe.csv\", sep=',')"
      ],
      "execution_count": null,
      "outputs": []
    },
    {
      "cell_type": "code",
      "metadata": {
        "id": "FtDkxc_fMH9Z"
      },
      "source": [
        "X = data_T.iloc[:,:60483]\n",
        "X.reset_index(drop=True, inplace=True)\n",
        "#X.head()"
      ],
      "execution_count": null,
      "outputs": []
    },
    {
      "cell_type": "code",
      "metadata": {
        "id": "iA_QbyCMNXac"
      },
      "source": [
        "y = data_T[['target']]\n",
        "y.reset_index(drop=True, inplace=True)\n",
        "#y.head()\n"
      ],
      "execution_count": null,
      "outputs": []
    },
    {
      "cell_type": "code",
      "metadata": {
        "id": "XeFrGygoMWBM"
      },
      "source": [
        "X_train, X_test, y_train, y_test = train_test_split(X, y, test_size=0.20, random_state=42)"
      ],
      "execution_count": null,
      "outputs": []
    },
    {
      "cell_type": "code",
      "metadata": {
        "id": "oFN-mY1NRGP5"
      },
      "source": [
        "from sklearn.metrics import log_loss"
      ],
      "execution_count": null,
      "outputs": []
    },
    {
      "cell_type": "markdown",
      "metadata": {
        "id": "0BwR61gtOvu3"
      },
      "source": [
        "Training a base level XGboost Classifer.\n",
        "K-fold =5, early stopping of 10 rounds gives mean accuracy of 99.22%"
      ]
    },
    {
      "cell_type": "code",
      "metadata": {
        "id": "CL52R7N4bHZv"
      },
      "source": [
        "reg_xgb = xgb.XGBClassifier(objective='binary:logistic',seed=42)\n",
        "reg_xgb.fit(\n",
        "    X_train,\n",
        "           y_train,\n",
        "           verbose=True,\n",
        "            early_stopping_rounds=10,\n",
        "            eval_set=[(X_test,y_test)]        \n",
        ")\n",
        "\n",
        "kfold = KFold(n_splits=5,)\n",
        "results = cross_val_score(reg_xgb, X_train, y_train, cv=kfold)\n",
        "print(results)\n",
        "print(\"Accuracy: %.2f%% (%.2f%%)\" % (results.mean()*100, results.std()*100))"
      ],
      "execution_count": null,
      "outputs": []
    },
    {
      "cell_type": "code",
      "metadata": {
        "id": "0mDjLmpbYY8S"
      },
      "source": [
        "from sklearn.metrics import classification_report\n",
        "pred = reg_xgb.predict(X_test)\n",
        "print(classification_report(y_test, pred))"
      ],
      "execution_count": null,
      "outputs": []
    },
    {
      "cell_type": "code",
      "metadata": {
        "id": "o6V2H6ZaZvP_"
      },
      "source": [
        ""
      ],
      "execution_count": null,
      "outputs": []
    },
    {
      "cell_type": "code",
      "metadata": {
        "id": "95IRBCNT6kJJ"
      },
      "source": [
        "params={\n",
        " \"learning_rate\"    : [ 0.05, 0.10, 0.20] ,\n",
        " \"max_depth\"        : [ 2,5],\n",
        " \"min_child_weight\" : [ 3, 5],\n",
        " \"gamma\"            : [0,0.1,0.5,1],\n",
        " #\"colsample_bytree\" : [ 0.3, 0.4, 0.5],\n",
        "  \"reg_lambda\"      : [0,0.5,1],\n",
        "    #\"subsample\"     : [0.7,0.8],\n",
        "\n",
        "}"
      ],
      "execution_count": null,
      "outputs": []
    },
    {
      "cell_type": "code",
      "metadata": {
        "id": "QaKuxwRIGRk2"
      },
      "source": [
        "optimal_params = RandomizedSearchCV(\n",
        "estimator = xgb.XGBRegressor(objective='binary:logistic',seed=42,\n",
        "                             verbose=0,cv=5,\n",
        "                             colsample_bytree= 0.4\n",
        "                            ),\n",
        "    param_distributions=params,\n",
        "    n_iter=10,\n",
        "    n_jobs=-1,\n",
        "    verbose=0,\n",
        "    cv=5\n",
        "                              \n",
        ")"
      ],
      "execution_count": null,
      "outputs": []
    },
    {
      "cell_type": "code",
      "metadata": {
        "id": "00gi-8SOGc3G"
      },
      "source": [
        "optimal_params.fit(X_train,\n",
        "                  y_train,\n",
        "                  early_stopping_rounds=10,\n",
        "                  eval_set=[(X_test,y_test)],\n",
        "                    verbose=True)\n",
        "\n",
        "#print(optimal_params.best_params_)"
      ],
      "execution_count": null,
      "outputs": []
    },
    {
      "cell_type": "code",
      "metadata": {
        "id": "RHx9-b3uH98Q"
      },
      "source": [
        "import shap\n",
        "explainer = shap.Explainer(reg_xgb, X)\n",
        "shap_values = explainer(X[:1000])"
      ],
      "execution_count": null,
      "outputs": []
    },
    {
      "cell_type": "code",
      "metadata": {
        "colab": {
          "base_uri": "https://localhost:8080/",
          "height": 340
        },
        "id": "y-VfOf_KGiC6",
        "outputId": "c09c5adc-ad4c-4bf5-d944-1f93fe05a46b"
      },
      "source": [
        "Imp_feature = reg_xgb.get_booster().get_score(importance_type = 'gain')\n",
        "print(Imp_feature)\n",
        "keys = list(Imp_feature.keys())\n",
        "print(keys)\n",
        "values = list(Imp_feature.values())\n",
        "\n",
        "\n",
        "#values_sort = sorted(values)\n",
        "#print(values_sort)\n",
        "\n",
        "data = pd.DataFrame(data=values, index=keys, columns=[\"score\"]).sort_values(by = \"score\", ascending=False)\n",
        "data.plot(kind='barh')\n",
        "\n",
        "#Imp_feature = list(Imp_feature.keys())\n",
        "print(len(Imp_feature))"
      ],
      "execution_count": null,
      "outputs": [
        {
          "name": "stdout",
          "output_type": "stream",
          "text": [
            "{'2764 ': 501.47350459999996, '409  ': 25.185325624999997, '8652 ': 21.3118248, '6    ': 0.465148926, '7864 ': 56.45572896, '33507': 44.40759786666666, '2    ': 0.0232200623, '29   ': 0.125701904, '22200': 84.0702362, '30513': 45.7835541, '35   ': 0.262359619, '60258': 71.0875092, '93   ': 0.37588501, '53850': 16.9541016, '7777 ': 8.07211304, '4    ': 0.277322769, '32085': 33.230423, '42054': 69.0208905125, '34204': 41.166214000000004, '19274': 8.515640265, '28113': 9.35711577, '40221': 13.53997991, '44719': 26.246979974545447, '46385': 119.09572096666665, '20282': 19.1125336, '37955': 9.72010803, '11417': 8.94367981, '22506': 10.3392944, '28687': 111.22231665, '27340': 11.70964815, '2344 ': 3.40917969, '40800': 5.221677143333333, '28595': 16.1873169, '27620': 2.581604, '25027': 9.53961563, '10392': 2.0428772, '9287 ': 29.9938717, '17563': 10.8470917, '21075': 3.92970657, '36991': 12.335830699999999, '7324 ': 3.6612885, '17652': 4.465003965, '45440': 5.344964985000001, '11915': 0.390420258, '52402': 17.799795166666666, '8272 ': 8.27612972, '38459': 2.72111845, '52439': 1.47285843, '59594': 3.77126312, '3467 ': 2.05864811, '29946': 1.45849609, '16086': 2.63158798, '15502': 4.47951126, '8223 ': 1.34745765}\n",
            "['2764 ', '409  ', '8652 ', '6    ', '7864 ', '33507', '2    ', '29   ', '22200', '30513', '35   ', '60258', '93   ', '53850', '7777 ', '4    ', '32085', '42054', '34204', '19274', '28113', '40221', '44719', '46385', '20282', '37955', '11417', '22506', '28687', '27340', '2344 ', '40800', '28595', '27620', '25027', '10392', '9287 ', '17563', '21075', '36991', '7324 ', '17652', '45440', '11915', '52402', '8272 ', '38459', '52439', '59594', '3467 ', '29946', '16086', '15502', '8223 ']\n",
            "54\n"
          ]
        },
        {
          "data": {
            "image/png": "[encoded data removed]",
            "text/plain": [
              "<Figure size 432x288 with 1 Axes>"
            ]
          },
          "metadata": {},
          "output_type": "display_data"
        }
      ]
    },
    {
      "cell_type": "code",
      "metadata": {
        "id": "v32Lm-J-1fvn"
      },
      "source": [
        "t = pd.DataFrame(Imp_feature, index = [0])\n",
        "t.head()\n",
        "t.to_csv(\"/content/drive/MyDrive/cancer-dataset/gene-feature-xgboost-corrected.csv\", sep=',')"
      ],
      "execution_count": null,
      "outputs": []
    },
    {
      "cell_type": "code",
      "metadata": {
        "colab": {
          "base_uri": "https://localhost:8080/"
        },
        "id": "x4iY9U35INSP",
        "outputId": "7c1f9e91-a544-4aae-d7bf-a4f69bed099e"
      },
      "source": [
        "print(sorted(Imp_feature.items(),reverse=True, key =\n",
        "             lambda kv:(kv[1], kv[0])))"
      ],
      "execution_count": null,
      "outputs": [
        {
          "name": "stdout",
          "output_type": "stream",
          "text": [
            "[('2764 ', 501.47350459999996), ('46385', 119.09572096666665), ('28687', 111.22231665), ('22200', 84.0702362), ('60258', 71.0875092), ('42054', 69.0208905125), ('7864 ', 56.45572896), ('30513', 45.7835541), ('33507', 44.40759786666666), ('34204', 41.166214000000004), ('32085', 33.230423), ('9287 ', 29.9938717), ('44719', 26.246979974545447), ('409  ', 25.185325624999997), ('8652 ', 21.3118248), ('20282', 19.1125336), ('52402', 17.799795166666666), ('53850', 16.9541016), ('28595', 16.1873169), ('40221', 13.53997991), ('36991', 12.335830699999999), ('27340', 11.70964815), ('17563', 10.8470917), ('22506', 10.3392944), ('37955', 9.72010803), ('25027', 9.53961563), ('28113', 9.35711577), ('11417', 8.94367981), ('19274', 8.515640265), ('8272 ', 8.27612972), ('7777 ', 8.07211304), ('45440', 5.344964985000001), ('40800', 5.221677143333333), ('15502', 4.47951126), ('17652', 4.465003965), ('21075', 3.92970657), ('59594', 3.77126312), ('7324 ', 3.6612885), ('2344 ', 3.40917969), ('38459', 2.72111845), ('16086', 2.63158798), ('27620', 2.581604), ('3467 ', 2.05864811), ('10392', 2.0428772), ('52439', 1.47285843), ('29946', 1.45849609), ('8223 ', 1.34745765), ('6    ', 0.465148926), ('11915', 0.390420258), ('93   ', 0.37588501), ('4    ', 0.277322769), ('35   ', 0.262359619), ('29   ', 0.125701904), ('2    ', 0.0232200623)]\n"
          ]
        }
      ]
    },
    {
      "cell_type": "code",
      "metadata": {
        "id": "f1f6hwwvjQlm"
      },
      "source": [
        "del(dn)"
      ],
      "execution_count": null,
      "outputs": []
    },
    {
      "cell_type": "code",
      "metadata": {
        "colab": {
          "base_uri": "https://localhost:8080/"
        },
        "id": "qoUGJZim2631",
        "outputId": "7a7ffa68-5f54-4045-907f-cf93abd6d1e0"
      },
      "source": [
        "df_concat.iloc[2764,:]"
      ],
      "execution_count": null,
      "outputs": [
        {
          "data": {
            "text/plain": [
              "Ensembl_ID          ENSG00000074800.12\n",
              "TCGA-HD-7831-01A               8.43974\n",
              "TCGA-H7-7774-01A               8.74896\n",
              "TCGA-CV-6943-01A               8.82354\n",
              "TCGA-CN-5374-01A               9.33407\n",
              "                           ...        \n",
              "TCGA-IG-A6QS-01A               8.80582\n",
              "TCGA-L5-A4OO-01A               7.08188\n",
              "TCGA-VR-AA7I-01A               7.95569\n",
              "TCGA-L5-A4OW-01A                7.3107\n",
              "TCGA-2H-A9GQ-01A               7.52445\n",
              "Name: 2764, Length: 1290, dtype: object"
            ]
          },
          "execution_count": 45,
          "metadata": {},
          "output_type": "execute_result"
        }
      ]
    },
    {
      "cell_type": "code",
      "metadata": {
        "colab": {
          "base_uri": "https://localhost:8080/"
        },
        "id": "4IR1pU-sKK9I",
        "outputId": "369e57e1-03e3-47d0-cdf6-4a349de8b58c"
      },
      "source": [
        "df_concat.iloc[46385,:]"
      ],
      "execution_count": null,
      "outputs": [
        {
          "data": {
            "text/plain": [
              "Ensembl_ID          ENSG00000207296.1\n",
              "TCGA-HD-7831-01A              3.83193\n",
              "TCGA-H7-7774-01A              3.79003\n",
              "TCGA-CV-6943-01A              2.62391\n",
              "TCGA-CN-5374-01A             0.680515\n",
              "                          ...        \n",
              "TCGA-IG-A6QS-01A              1.17754\n",
              "TCGA-L5-A4OO-01A             0.842916\n",
              "TCGA-VR-AA7I-01A              4.10919\n",
              "TCGA-L5-A4OW-01A              1.54533\n",
              "TCGA-2H-A9GQ-01A                    0\n",
              "Name: 46385, Length: 1290, dtype: object"
            ]
          },
          "execution_count": 47,
          "metadata": {},
          "output_type": "execute_result"
        }
      ]
    },
    {
      "cell_type": "code",
      "metadata": {
        "id": "0tnx0QHQMnnA"
      },
      "source": [
        ""
      ],
      "execution_count": null,
      "outputs": []
    },
    {
      "cell_type": "code",
      "metadata": {
        "id": "XbNtCC7m6HTR"
      },
      "source": [
        "perm_importance = permutation_importance(xgb, X_test, y_test)\n",
        "sorted_idx = perm_importance.importances_mean.argsort()\n",
        "plt.barh(boston.feature_names[sorted_idx], perm_importance.importances_mean[sorted_idx])\n",
        "plt.xlabel(\"Permutation Importance\")"
      ],
      "execution_count": null,
      "outputs": []
    }
  ]
}